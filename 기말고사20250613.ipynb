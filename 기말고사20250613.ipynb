{
  "nbformat": 4,
  "nbformat_minor": 0,
  "metadata": {
    "colab": {
      "provenance": [],
      "include_colab_link": true
    },
    "kernelspec": {
      "name": "python3",
      "display_name": "Python 3"
    },
    "language_info": {
      "name": "python"
    }
  },
  "cells": [
    {
      "cell_type": "markdown",
      "metadata": {
        "id": "view-in-github",
        "colab_type": "text"
      },
      "source": [
        "<a href=\"https://colab.research.google.com/github/f8sle/report/blob/main/%EA%B8%B0%EB%A7%90%EA%B3%A0%EC%82%AC20250613.ipynb\" target=\"_parent\"><img src=\"https://colab.research.google.com/assets/colab-badge.svg\" alt=\"Open In Colab\"/></a>"
      ]
    },
    {
      "cell_type": "markdown",
      "source": [
        "# **기말고사(20250613)**\n",
        "학번 : 2020140008             \n",
        "성명 : 박성훈"
      ],
      "metadata": {
        "id": "HLN-R2JwLOcg"
      }
    },
    {
      "cell_type": "markdown",
      "source": [
        "# **문제 1) ANN Backpropagation**"
      ],
      "metadata": {
        "id": "3V4YGpkZ9CuX"
      }
    },
    {
      "cell_type": "code",
      "source": [
        "# Back-propagation of ANN with numpy\n",
        "import numpy as np\n",
        "import matplotlib.pyplot as plt\n",
        "\n",
        "# Data Generation\n",
        "np.random.seed(0)\n",
        "num_samples = 300\n",
        "\n",
        "x1 = np.random.uniform(0, 1, num_samples)\n",
        "x2 = np.random.uniform(0, 1, num_samples)\n",
        "x3 = np.random.uniform(0, 1, num_samples)\n",
        "\n",
        "# Target\n",
        "y = 3 * x1 - 2 * x2 + x3"
      ],
      "metadata": {
        "id": "VO7UTX1B8yYV"
      },
      "execution_count": 12,
      "outputs": []
    },
    {
      "cell_type": "code",
      "source": [
        "# Sigmoid activation function and its derivative\n",
        "def sigmoid(x):\n",
        "    return 1 / (1 + np.exp(-x))\n",
        "\n",
        "def sigmoid_derivative(x):\n",
        "    return x * (1 - x)\n",
        "\n",
        "# MSE and MAPE functions\n",
        "def mse(y_true, y_pred):\n",
        "    return np.mean((y_true - y_pred) ** 2)\n",
        "\n",
        "def mape(y_true, y_pred):\n",
        "    return np.mean(np.abs((y_true - y_pred) / (y_true + 1e-10))) * 100\n",
        "\n",
        "# Data Generation\n",
        "np.random.seed(0)\n",
        "num_samples = 300\n",
        "x1 = np.random.uniform(0, 1, num_samples)\n",
        "x2 = np.random.uniform(0, 1, num_samples)\n",
        "x3 = np.random.uniform(0, 1, num_samples)\n",
        "X = np.vstack((x1, x2, x3)).T\n",
        "y = (3 * x1 - 2 * x2 + x3).reshape(-1, 1)\n",
        "\n",
        "# ANN Architecture\n",
        "input_size = 3\n",
        "hidden_size = 10\n",
        "output_size = 1\n",
        "\n",
        "# Initialize weights and biases\n",
        "W1 = np.random.randn(input_size, hidden_size) * 0.01\n",
        "b1 = np.zeros((1, hidden_size))\n",
        "W2 = np.random.randn(hidden_size, output_size) * 0.01\n",
        "b2 = np.zeros((1, output_size))\n",
        "\n",
        "# Hyperparameters\n",
        "learning_rate = 0.001\n",
        "epochs = 100\n",
        "\n",
        "# Training\n",
        "mse_history = []\n",
        "mape_history = []\n",
        "\n",
        "for epoch in range(epochs):\n",
        "    # Forward propagation\n",
        "    z1 = np.dot(X, W1) + b1\n",
        "    a1 = sigmoid(z1)\n",
        "    z2 = np.dot(a1, W2) + b2\n",
        "    a2 = z2  # Linear activation for output (since it's a regression problem)\n",
        "\n",
        "    # Compute loss\n",
        "    mse_loss = mse(y, a2)\n",
        "    mape_loss = mape(y, a2)\n",
        "    mse_history.append(mse_loss)\n",
        "    mape_history.append(mape_loss)\n",
        "\n",
        "    # Backward propagation\n",
        "    error_output = a2 - y\n",
        "    delta_output = error_output  # Derivative of linear activation is 1\n",
        "\n",
        "    error_hidden = np.dot(delta_output, W2.T)\n",
        "    delta_hidden = error_hidden * sigmoid_derivative(a1)\n",
        "\n",
        "    # Update weights and biases\n",
        "    W2 -= learning_rate * np.dot(a1.T, delta_output)\n",
        "    b2 -= learning_rate * np.sum(delta_output, axis=0, keepdims=True)\n",
        "    W1 -= learning_rate * np.dot(X.T, delta_hidden)\n",
        "    b1 -= learning_rate * np.sum(delta_hidden, axis=0, keepdims=True)\n",
        "\n",
        "    # Print progress every 10 epochs\n",
        "    if (epoch + 1) % 10 == 0:\n",
        "        print(f\"Epoch {epoch + 1}/{epochs}, MSE: {mse_loss:.4f}, MAPE: {mape_loss:.4f}%\")\n",
        "\n",
        "# Final evaluation\n",
        "print(\"\\nFinal Results:\")\n",
        "print(f\"Final MSE: {mse_history[-1]:.4f}\")\n",
        "print(f\"Final MAPE: {mape_history[-1]:.4f}%\")\n"
      ],
      "metadata": {
        "id": "PC5N1sB1JwMj",
        "outputId": "8bf03a79-7eba-4b07-9589-f4aff76afb90",
        "colab": {
          "base_uri": "https://localhost:8080/"
        }
      },
      "execution_count": 10,
      "outputs": [
        {
          "output_type": "stream",
          "name": "stdout",
          "text": [
            "Epoch 10/100, MSE: 1.1920, MAPE: 304.5244%\n",
            "Epoch 20/100, MSE: 1.1836, MAPE: 304.4806%\n",
            "Epoch 30/100, MSE: 1.1745, MAPE: 304.3345%\n",
            "Epoch 40/100, MSE: 1.1641, MAPE: 304.0253%\n",
            "Epoch 50/100, MSE: 1.1517, MAPE: 303.4814%\n",
            "Epoch 60/100, MSE: 1.1367, MAPE: 302.6201%\n",
            "Epoch 70/100, MSE: 1.1183, MAPE: 301.3343%\n",
            "Epoch 80/100, MSE: 1.0956, MAPE: 299.4881%\n",
            "Epoch 90/100, MSE: 1.0677, MAPE: 296.9188%\n",
            "Epoch 100/100, MSE: 1.0336, MAPE: 293.4314%\n",
            "\n",
            "Final Results:\n",
            "Final MSE: 1.0336\n",
            "Final MAPE: 293.4314%\n"
          ]
        }
      ]
    },
    {
      "cell_type": "markdown",
      "source": [
        "# **문제 2) CNN**\n",
        "- Data\n",
        "![image.png](data:image/png;base64,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)"
      ],
      "metadata": {
        "id": "Ot3DiZ45Jk9R"
      }
    },
    {
      "cell_type": "code",
      "execution_count": null,
      "metadata": {
        "id": "tjF8Ra6k2iEt"
      },
      "outputs": [],
      "source": [
        "import tensorflow as tf\n",
        "import numpy as np\n",
        "import matplotlib.pyplot as plt\n",
        "import pandas as pd\n",
        "%matplotlib inline"
      ]
    },
    {
      "cell_type": "code",
      "source": [
        "from google.colab import drive\n",
        "drive.mount('/content/drive')"
      ],
      "metadata": {
        "id": "2qOaKMJRKmsU",
        "colab": {
          "base_uri": "https://localhost:8080/"
        },
        "outputId": "982a7ef2-ed15-428e-ee1d-0e50e97fa01d"
      },
      "execution_count": 8,
      "outputs": [
        {
          "output_type": "stream",
          "name": "stdout",
          "text": [
            "Mounted at /content/drive\n"
          ]
        }
      ]
    },
    {
      "cell_type": "code",
      "source": [
        "# 0,1,2,3,4, and 5 finger image data set\n",
        "\n",
        "train_x = np.load('/content/drive/MyDrive/Colab Notebooks/sample/Finger_train_img.npy')\n",
        "train_y = np.load('/content/drive/MyDrive/Colab Notebooks/sample/Finger_train_label.npy')\n",
        "\n",
        "test_x = np.load('/content/drive/MyDrive/Colab Notebooks/sample/Finger_test_img.npy')\n",
        "test_y = np.load('/content/drive/MyDrive/Colab Notebooks/sample/Finger_test_label.npy')"
      ],
      "metadata": {
        "id": "XtUFIewY23Cn"
      },
      "execution_count": null,
      "outputs": []
    },
    {
      "cell_type": "code",
      "source": [],
      "metadata": {
        "id": "eGyp3Ocm9rJF"
      },
      "execution_count": null,
      "outputs": []
    },
    {
      "cell_type": "markdown",
      "source": [
        "# **문제 3) K-means clustering**"
      ],
      "metadata": {
        "id": "hXEPBzlZ8z8x"
      }
    },
    {
      "cell_type": "code",
      "execution_count": 19,
      "metadata": {
        "id": "_9kBlVKtpLiU"
      },
      "outputs": [],
      "source": [
        "import numpy as np\n",
        "import matplotlib.pyplot as plt\n",
        "\n",
        "np.random.seed(0)\n",
        "data1 = np.array((np.random.normal(0, 0.2, 100), np.random.normal(0.0, 0.4, 100)))\n",
        "data2 = np.array((np.random.normal(1.2, 0.3, 100), np.random.normal(1.1, 0.7, 100)))\n",
        "data3 = np.array((np.random.normal(1.6, 0.2, 100), np.random.normal(1.8, 0.7, 100)))\n",
        "data4 = np.array((np.random.normal(0.3, 0.1, 100), np.random.normal(0.5, 0.3, 100)))"
      ]
    },
    {
      "cell_type": "code",
      "source": [
        "data_1 = data1.T\n",
        "data_2 = data2.T\n",
        "data_3 = data3.T\n",
        "data_4 = data4.T\n",
        "\n",
        "data = np.concatenate((data_1, data_2, data_3, data_4), axis=0)\n",
        "\n",
        "# K-means clustering function\n",
        "def kmeans(X, k, centroids_init, max_iters=100):\n",
        "    # Validate centroids_init shape\n",
        "    if centroids_init.shape != (k, X.shape[1]):\n",
        "        raise ValueError(f\"centroids_init shape {centroids_init.shape} does not match expected (k={k}, features={X.shape[1]})\")\n",
        "\n",
        "    centroids = centroids_init.copy()  # Avoid modifying input\n",
        "    for _ in range(max_iters):\n",
        "        # Assign points to nearest centroid\n",
        "        distances = np.sqrt(((X - centroids[:, np.newaxis])**2).sum(axis=2))\n",
        "        labels = np.argmin(distances, axis=0)\n",
        "\n",
        "        # Update centroids\n",
        "        new_centroids = np.array([X[labels == i].mean(axis=0) if np.sum(labels == i) > 0 else centroids[i]\n",
        "                                 for i in range(k)])\n",
        "\n",
        "        # Check convergence\n",
        "        if np.all(centroids == new_centroids):\n",
        "            break\n",
        "        centroids = new_centroids\n",
        "\n",
        "    # Calculate inertia (within-cluster sum of squares)\n",
        "    inertia = np.sum([np.sum((X[labels == i] - centroids[i])**2) for i in range(k)])\n",
        "    return labels, centroids, inertia\n",
        "\n",
        "# Initialize centroids as means of the four data sets\n",
        "centroids_init = np.array([data1.mean(axis=0), data2.mean(axis=0),\n",
        "                          data3.mean(axis=0), data4.mean(axis=0)])\n",
        "# Verify initial centroids shape\n",
        "if centroids_init.shape != (4, 2):\n",
        "    raise ValueError(f\"Initial centroids shape {centroids_init.shape} does not match expected (4, 2)\")\n",
        "\n",
        "# Elbow method to find optimal K\n",
        "inertias = []\n",
        "K_range = range(1, 11)\n",
        "for k in K_range:\n",
        "    if k <= 4:\n",
        "        # Use provided initial centroids for k <= 4\n",
        "        init_centroids = centroids_init[:k]\n",
        "    else:\n",
        "        # Random initialization for k > 4\n",
        "        init_centroids = data[np.random.choice(data.shape[0], k, replace=False)]\n",
        "\n",
        "    # Verify shape before passing to kmeans\n",
        "    if init_centroids.shape != (k, 2):\n",
        "        raise ValueError(f\"init_centroids shape {init_centroids.shape} does not match expected (k={k}, 2)\")\n",
        "\n",
        "    labels, centroids, inertia = kmeans(data, k, init_centroids)\n",
        "    inertias.append(inertia)\n",
        "\n",
        "# Find Elbow point (using second derivative approximation)\n",
        "diff = np.diff(inertias)\n",
        "diff2 = np.diff(diff)\n",
        "elbow_point = K_range[1:-1][np.argmax(diff2)] if len(diff2) > 0 else 4\n",
        "\n",
        "# Run K-means with optimal K\n",
        "init_centroids = centroids_init[:elbow_point] if elbow_point <= 4 else data[np.random.choice(data.shape[0], elbow_point, replace=False)]\n",
        "optimal_labels, optimal_centroids, _ = kmeans(data, elbow_point, init_centroids)\n",
        "\n",
        "# Print results\n",
        "print(f\"Optimal number of clusters (Elbow point): {elbow_point}\")\n",
        "print(f\"Final centroids:\\n{optimal_centroids}\")\n",
        "\n",
        "# Plot Elbow curve\n",
        "plt.figure(figsize=(8, 5))\n",
        "plt.plot(K_range, inertias, 'bo-')\n",
        "plt.axvline(x=elbow_point, color='r', linestyle='--', label=f'Elbow point (K={elbow_point})')\n",
        "plt.xlabel('Number of clusters (K)')\n",
        "plt.ylabel('Inertia')\n",
        "plt.title('Elbow Method for Optimal K')\n",
        "plt.legend()\n",
        "plt.grid(True)\n",
        "plt.show()\n",
        "\n",
        "# Plot clustered data\n",
        "plt.figure(figsize=(8, 5))\n",
        "plt.scatter(data[:, 0], data[:, 1], c=optimal_labels, cmap='viridis', alpha=0.5)\n",
        "plt.scatter(optimal_centroids[:, 0], optimal_centroids[:, 1], c='red', marker='x', s=200, label='Centroids')\n",
        "plt.xlabel('X1')\n",
        "plt.ylabel('X2')\n",
        "plt.title(f'K-means Clustering with K={elbow_point}')\n",
        "plt.legend()\n",
        "plt.grid(True)\n",
        "plt.show()"
      ],
      "metadata": {
        "id": "r7bmioa1NfYq",
        "colab": {
          "base_uri": "https://localhost:8080/",
          "height": 346
        },
        "outputId": "75dd0871-9a60-49da-dd54-d75e425cacb6"
      },
      "execution_count": 20,
      "outputs": [
        {
          "output_type": "error",
          "ename": "ValueError",
          "evalue": "operands could not be broadcast together with shapes (400,2) (1,1,100) ",
          "traceback": [
            "\u001b[0;31m---------------------------------------------------------------------------\u001b[0m",
            "\u001b[0;31mValueError\u001b[0m                                Traceback (most recent call last)",
            "\u001b[0;32m<ipython-input-20-1484620193>\u001b[0m in \u001b[0;36m<cell line: 0>\u001b[0;34m()\u001b[0m\n\u001b[1;32m     36\u001b[0m     \u001b[0;32mif\u001b[0m \u001b[0mk\u001b[0m \u001b[0;34m<=\u001b[0m \u001b[0;36m4\u001b[0m\u001b[0;34m:\u001b[0m\u001b[0;34m\u001b[0m\u001b[0;34m\u001b[0m\u001b[0m\n\u001b[1;32m     37\u001b[0m         \u001b[0;31m# Use provided initial centroids for k <= 4\u001b[0m\u001b[0;34m\u001b[0m\u001b[0;34m\u001b[0m\u001b[0m\n\u001b[0;32m---> 38\u001b[0;31m         \u001b[0mlabels\u001b[0m\u001b[0;34m,\u001b[0m \u001b[0mcentroids\u001b[0m\u001b[0;34m,\u001b[0m \u001b[0minertia\u001b[0m \u001b[0;34m=\u001b[0m \u001b[0mkmeans\u001b[0m\u001b[0;34m(\u001b[0m\u001b[0mdata\u001b[0m\u001b[0;34m,\u001b[0m \u001b[0mk\u001b[0m\u001b[0;34m,\u001b[0m \u001b[0mcentroids_init\u001b[0m\u001b[0;34m[\u001b[0m\u001b[0;34m:\u001b[0m\u001b[0mk\u001b[0m\u001b[0;34m]\u001b[0m\u001b[0;34m)\u001b[0m\u001b[0;34m\u001b[0m\u001b[0;34m\u001b[0m\u001b[0m\n\u001b[0m\u001b[1;32m     39\u001b[0m     \u001b[0;32melse\u001b[0m\u001b[0;34m:\u001b[0m\u001b[0;34m\u001b[0m\u001b[0;34m\u001b[0m\u001b[0m\n\u001b[1;32m     40\u001b[0m         \u001b[0;31m# Random initialization for k > 4\u001b[0m\u001b[0;34m\u001b[0m\u001b[0;34m\u001b[0m\u001b[0m\n",
            "\u001b[0;32m<ipython-input-20-1484620193>\u001b[0m in \u001b[0;36mkmeans\u001b[0;34m(X, k, centroids_init, max_iters)\u001b[0m\n\u001b[1;32m     10\u001b[0m     \u001b[0;32mfor\u001b[0m \u001b[0m_\u001b[0m \u001b[0;32min\u001b[0m \u001b[0mrange\u001b[0m\u001b[0;34m(\u001b[0m\u001b[0mmax_iters\u001b[0m\u001b[0;34m)\u001b[0m\u001b[0;34m:\u001b[0m\u001b[0;34m\u001b[0m\u001b[0;34m\u001b[0m\u001b[0m\n\u001b[1;32m     11\u001b[0m         \u001b[0;31m# Assign points to nearest centroid\u001b[0m\u001b[0;34m\u001b[0m\u001b[0;34m\u001b[0m\u001b[0m\n\u001b[0;32m---> 12\u001b[0;31m         \u001b[0mdistances\u001b[0m \u001b[0;34m=\u001b[0m \u001b[0mnp\u001b[0m\u001b[0;34m.\u001b[0m\u001b[0msqrt\u001b[0m\u001b[0;34m(\u001b[0m\u001b[0;34m(\u001b[0m\u001b[0;34m(\u001b[0m\u001b[0mX\u001b[0m \u001b[0;34m-\u001b[0m \u001b[0mcentroids\u001b[0m\u001b[0;34m[\u001b[0m\u001b[0;34m:\u001b[0m\u001b[0;34m,\u001b[0m \u001b[0mnp\u001b[0m\u001b[0;34m.\u001b[0m\u001b[0mnewaxis\u001b[0m\u001b[0;34m]\u001b[0m\u001b[0;34m)\u001b[0m\u001b[0;34m**\u001b[0m\u001b[0;36m2\u001b[0m\u001b[0;34m)\u001b[0m\u001b[0;34m.\u001b[0m\u001b[0msum\u001b[0m\u001b[0;34m(\u001b[0m\u001b[0maxis\u001b[0m\u001b[0;34m=\u001b[0m\u001b[0;36m2\u001b[0m\u001b[0;34m)\u001b[0m\u001b[0;34m)\u001b[0m\u001b[0;34m\u001b[0m\u001b[0;34m\u001b[0m\u001b[0m\n\u001b[0m\u001b[1;32m     13\u001b[0m         \u001b[0mlabels\u001b[0m \u001b[0;34m=\u001b[0m \u001b[0mnp\u001b[0m\u001b[0;34m.\u001b[0m\u001b[0margmin\u001b[0m\u001b[0;34m(\u001b[0m\u001b[0mdistances\u001b[0m\u001b[0;34m,\u001b[0m \u001b[0maxis\u001b[0m\u001b[0;34m=\u001b[0m\u001b[0;36m0\u001b[0m\u001b[0;34m)\u001b[0m\u001b[0;34m\u001b[0m\u001b[0;34m\u001b[0m\u001b[0m\n\u001b[1;32m     14\u001b[0m \u001b[0;34m\u001b[0m\u001b[0m\n",
            "\u001b[0;31mValueError\u001b[0m: operands could not be broadcast together with shapes (400,2) (1,1,100) "
          ]
        }
      ]
    }
  ]
}